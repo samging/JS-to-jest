{
  "nbformat": 4,
  "nbformat_minor": 0,
  "metadata": {
    "colab": {
      "provenance": []
    },
    "kernelspec": {
      "name": "python3",
      "display_name": "Python 3"
    },
    "language_info": {
      "name": "python"
    }
  },
  "cells": [
    {
      "cell_type": "code",
      "execution_count": null,
      "metadata": {
        "id": "GGXBJfhf48Qr"
      },
      "outputs": [],
      "source": [
        "from zipfile import ZipFile"
      ]
    },
    {
      "cell_type": "code",
      "source": [
        "with ZipFile(\"/content/javascript_jest_df.zip\", 'r') as f:\n",
        "  f.extractall(path=\"/content/javascipt_jest_df_unzipped\")"
      ],
      "metadata": {
        "id": "EmLA7Rzx7axw"
      },
      "execution_count": null,
      "outputs": []
    },
    {
      "cell_type": "code",
      "source": [
        "import pandas as pd"
      ],
      "metadata": {
        "id": "zr_WoDAc77C1"
      },
      "execution_count": null,
      "outputs": []
    },
    {
      "cell_type": "code",
      "source": [
        "javascript_folder = [\"/content/javascipt_jest_df_unzipped/javascript_jest_df/js_part\"]\n",
        "jest_folder = [\"/content/javascipt_jest_df_unzipped/javascript_jest_df/jest_part\"]\n",
        "\n",
        "df = pd.DataFrame({'JavaScript Content': javascript_folder})"
      ],
      "metadata": {
        "id": "YACgMwa08o4z"
      },
      "execution_count": null,
      "outputs": []
    },
    {
      "cell_type": "code",
      "source": [
        "from nltk.tokenize import word_tokenize\n",
        "import nltk\n",
        "nltk.download('punkt')"
      ],
      "metadata": {
        "colab": {
          "base_uri": "https://localhost:8080/"
        },
        "id": "BJ9ckMfg9Iff",
        "outputId": "a148de78-8cbb-4eb0-d77a-a7c48a47b658"
      },
      "execution_count": null,
      "outputs": [
        {
          "output_type": "stream",
          "name": "stderr",
          "text": [
            "[nltk_data] Downloading package punkt to /root/nltk_data...\n",
            "[nltk_data]   Package punkt is already up-to-date!\n"
          ]
        },
        {
          "output_type": "execute_result",
          "data": {
            "text/plain": [
              "True"
            ]
          },
          "metadata": {},
          "execution_count": 5
        }
      ]
    },
    {
      "cell_type": "code",
      "source": [
        "import os"
      ],
      "metadata": {
        "id": "rcxvQog-_Eol"
      },
      "execution_count": null,
      "outputs": []
    },
    {
      "cell_type": "code",
      "source": [
        "def load_javascript_files(directory):\n",
        "    javascript_files = []\n",
        "    for filename in os.listdir(directory):\n",
        "        if filename.endswith('.js'):  # Check if the file is a JavaScript file\n",
        "            file_path = os.path.join(directory, filename)\n",
        "            print(\"Loading JavaScript file:\", filename)\n",
        "            with open(file_path, 'r') as file:\n",
        "                javascript_files.append(file.read())\n",
        "    return javascript_files\n",
        "\n",
        "def load_jest_files(directory):\n",
        "    jest_files = []\n",
        "    for filename in os.listdir(directory):\n",
        "        file_path = os.path.join(directory, filename)\n",
        "        print(\"Loading Jest file:\", filename)\n",
        "        with open(file_path, 'r') as jest_file:\n",
        "            jest_files.append(jest_file.read())\n",
        "    return jest_files\n",
        "\n",
        "javascript_files = load_javascript_files(javascript_destiny)\n",
        "\n",
        "jest_files = load_jest_files(jest_destiny)\n",
        "\n",
        "df = pd.DataFrame({'tokenized_js': javascript_files, 'tokenized_jest': jest_files})\n",
        "print(\"Number of JavaScript files loaded:\", len(javascript_files))\n",
        "print(\"Number of Jest files loaded:\", len(jest_files))\n",
        "\n",
        "print(\"\\nContent of the first JavaScript file:\")\n",
        "print(javascript_files[0])\n",
        "\n",
        "print(\"\\nContent of the first Jest file:\")\n",
        "print(jest_files[0])\n"
      ],
      "metadata": {
        "colab": {
          "base_uri": "https://localhost:8080/"
        },
        "id": "4_tS6dmv-4ii",
        "outputId": "89da0ac4-147b-4bb3-9d61-a340f48faa2c"
      },
      "execution_count": null,
      "outputs": [
        {
          "output_type": "stream",
          "name": "stdout",
          "text": [
            "Loading JavaScript file: js_th.js\n",
            "Loading JavaScript file: js_sev.js\n",
            "Loading JavaScript file: js_fiv.js\n",
            "Loading JavaScript file: js_tent.js\n",
            "Loading JavaScript file: js_sixt.js\n",
            "Loading JavaScript file: js_sec.js\n",
            "Loading JavaScript file: js_ni.js\n",
            "Loading JavaScript file: js_elev.js\n",
            "Loading JavaScript file: js_cal.js\n",
            "Loading JavaScript file: js_eight.js\n",
            "Loading JavaScript file: js_rd.js\n",
            "Loading Jest file: jest_6.js\n",
            "Loading Jest file: jest_2.js\n",
            "Loading Jest file: jest_1O.js\n",
            "Loading Jest file: jest_st.js\n",
            "Loading Jest file: jest_4.js\n",
            "Loading Jest file: jest_5.js\n",
            "Loading Jest file: jest_11.js\n",
            "Loading Jest file: jest_9.js\n",
            "Loading Jest file: jest_3.js\n",
            "Loading Jest file: jest_7.js\n",
            "Loading Jest file: jest_8.js\n",
            "Number of JavaScript files loaded: 11\n",
            "Number of Jest files loaded: 11\n",
            "\n",
            "Content of the first JavaScript file:\n",
            "import { useState, useEffect } from 'react'\n",
            "import { TodoProvider } from './contexts'\n",
            "import './App.css'\n",
            "import TodoForm from './components/TodoForm'\n",
            "import TodoItem from './components/TodoItem'\n",
            "\n",
            "function App() {\n",
            "  const [todos, setTodos] = useState([])\n",
            "\n",
            "  const addTodo = (todo) => {\n",
            "    setTodos((prev) => [{ id: Date.now(), ...todo }, ...prev])\n",
            "  }\n",
            "\n",
            "  const updateTodo = (id, todo) => {\n",
            "    setTodos((prev) => prev.map((prevTodo) => (prevTodo.id === id ? todo : prevTodo)))\n",
            "\n",
            "\n",
            "  }\n",
            "\n",
            "  const deleteTodo = (id) => {\n",
            "    setTodos((prev) => prev.filter((todo) => todo.id !== id))\n",
            "  }\n",
            "\n",
            "  const toggleComplete = (id) => {\n",
            "    //console.log(id);\n",
            "    setTodos((prev) =>\n",
            "      prev.map((prevTodo) =>\n",
            "        prevTodo.id === id ? {\n",
            "          ...prevTodo,\n",
            "          completed: !prevTodo.completed\n",
            "        } : prevTodo))\n",
            "  }\n",
            "\n",
            "  useEffect(() => {\n",
            "    const todos = JSON.parse(localStorage.getItem(\"todos\"))\n",
            "\n",
            "    if (todos && todos.length > 0) {\n",
            "      setTodos(todos)\n",
            "    }\n",
            "  }, [])\n",
            "\n",
            "  useEffect(() => {\n",
            "    localStorage.setItem(\"todos\", JSON.stringify(todos))\n",
            "  }, [todos])\n",
            "\n",
            "\n",
            "\n",
            "\n",
            "  return (\n",
            "    <TodoProvider value={{ todos, addTodo, updateTodo, deleteTodo, toggleComplete }}>\n",
            "      <div className=\"bg-[#172842] min-h-screen py-8\">\n",
            "        <div className=\"w-screen max-w-2xl mx-auto shadow-md rounded-lg px-4 py-3 text-white\">\n",
            "          <h1 className=\"text-2xl font-bold text-center mb-8 mt-2\">Manage Your Todos</h1>\n",
            "          <div className=\"mb-4\">\n",
            "            {/* Todo form goes here */}\n",
            "            <TodoForm />\n",
            "          </div>\n",
            "          <div className=\"flex flex-wrap gap-y-3\">\n",
            "            {/*Loop and Add TodoItem here */}\n",
            "            {todos.map((todo) => (\n",
            "              <div key={todo.id}\n",
            "                className='w-full'\n",
            "              >\n",
            "                <TodoItem todo={todo} />\n",
            "              </div>\n",
            "            ))}\n",
            "          </div>\n",
            "        </div>\n",
            "      </div>\n",
            "    </TodoProvider>\n",
            "  )\n",
            "}\n",
            "\n",
            "export default App\n",
            "\n",
            "Content of the first Jest file:\n",
            "import React from 'react';\n",
            "import { render, screen, fireEvent } from '@testing-library/react';\n",
            "import '@testing-library/jest-dom/extend-expect';\n",
            "import Login from './Login'; // Adjust the path if needed\n",
            "import UserContext from '../../context/UserContext';\n",
            "\n",
            "describe('Login Component', () => {\n",
            "  test('renders Login component', () => {\n",
            "    render(\n",
            "      <UserContext.Provider value={{ setUser: jest.fn() }}>\n",
            "        <Login />\n",
            "      </UserContext.Provider>\n",
            "    );\n",
            "    \n",
            "    expect(screen.getByText('Login')).toBeInTheDocument();\n",
            "    expect(screen.getByPlaceholderText('Username')).toBeInTheDocument();\n",
            "    expect(screen.getByPlaceholderText('password')).toBeInTheDocument();\n",
            "    expect(screen.getByText('Submit')).toBeInTheDocument();\n",
            "  });\n",
            "\n",
            "  test('updates username and password state on input change', () => {\n",
            "    render(\n",
            "      <UserContext.Provider value={{ setUser: jest.fn() }}>\n",
            "        <Login />\n",
            "      </UserContext.Provider>\n",
            "    );\n",
            "\n",
            "    const usernameInput = screen.getByPlaceholderText('Username');\n",
            "    const passwordInput = screen.getByPlaceholderText('password');\n",
            "\n",
            "    fireEvent.change(usernameInput, { target: { value: 'testuser' } });\n",
            "    fireEvent.change(passwordInput, { target: { value: 'password123' } });\n",
            "\n",
            "    expect(usernameInput.value).toBe('testuser');\n",
            "    expect(passwordInput.value).toBe('password123');\n",
            "  });\n",
            "\n",
            "  test('calls setUser with username and password on submit', () => {\n",
            "    const setUserMock = jest.fn();\n",
            "\n",
            "    render(\n",
            "      <UserContext.Provider value={{ setUser: setUserMock }}>\n",
            "        <Login />\n",
            "      </UserContext.Provider>\n",
            "    );\n",
            "\n",
            "    const usernameInput = screen.getByPlaceholderText('Username');\n",
            "    const passwordInput = screen.getByPlaceholderText('password');\n",
            "    const submitButton = screen.getByText('Submit');\n",
            "\n",
            "    fireEvent.change(usernameInput, { target: { value: 'testuser' } });\n",
            "    fireEvent.change(passwordInput, { target: { value: 'password123' } });\n",
            "    fireEvent.click(submitButton);\n",
            "\n",
            "    expect(setUserMock).toHaveBeenCalledWith({\n",
            "      userName: 'testuser',\n",
            "      password: 'password123',\n",
            "    });\n",
            "  });\n",
            "});\n"
          ]
        }
      ]
    },
    {
      "cell_type": "code",
      "source": [
        "df.shape"
      ],
      "metadata": {
        "colab": {
          "base_uri": "https://localhost:8080/"
        },
        "id": "lCKPoByg-hxi",
        "outputId": "82c4d915-54bd-4239-d26c-f014e3e745a1"
      },
      "execution_count": null,
      "outputs": [
        {
          "output_type": "execute_result",
          "data": {
            "text/plain": [
              "(11, 2)"
            ]
          },
          "metadata": {},
          "execution_count": 32
        }
      ]
    },
    {
      "cell_type": "code",
      "source": [
        "import re\n",
        "\n",
        "def custom_tokenizer(code):\n",
        "    patterns = [\n",
        "        r'\\b\\w+\\b',\n",
        "        r'\"(?:\\\\.|[^\"\\\\])*\"|\\'(?:\\\\.|[^\\'\\\\])*\\'',\n",
        "        r'//.*|/\\*(?:.|\\n)*?\\*/',\n",
        "        r'\\b(it|describe|test)\\s*\\((?:[^)(]|\\((?:[^)(]+|\\([^)(]*\\))*\\))*\\)',\n",
        "        r'(it|describe|test)\\s*\\.\\s*(?:each|skip|only|todo)',\n",
        "        r'\\b(expect|toMatch|toEqual|toContain|toBe)\\s*\\(',\n",
        "        r'[\\[\\]{}(),;.]|\\+\\+|--|&&|\\|\\||<<|>>|===|!==|=>|\\?',\n",
        "        r'\\b\\d+(?:\\.\\d*)?(?:e[+-]?\\d+)?\\b'\n",
        "    ]\n",
        "\n",
        "    patterns = [re.compile(pattern) for pattern in patterns]\n",
        "\n",
        "    tokens = []\n",
        "    for pattern in patterns:\n",
        "        tokens.extend(pattern.findall(code))\n",
        "\n",
        "    return tokens\n",
        "\n",
        "javascript_code = \"function greet(name) { console.log('Hello, ' + name + '!'); } greet('World');\"\n",
        "jest_code = \"it('should greet the world', () => { expect(greet('World')).toBe('Hello, World!'); });\"\n",
        "\n",
        "print(\"JavaScript tokens:\", custom_tokenizer(javascript_code))\n",
        "print(\"Jest tokens:\", custom_tokenizer(jest_code))\n",
        "\n",
        "df['js_tokens'] = df['tokenized_js'].apply(lambda x: custom_tokenizer(x))\n",
        "df['jest_tokens'] = df['tokenized_jest'].apply(lambda x: custom_tokenizer(x))"
      ],
      "metadata": {
        "id": "E496_Et_JC75"
      },
      "execution_count": null,
      "outputs": []
    },
    {
      "cell_type": "code",
      "source": [
        "df.shape"
      ],
      "metadata": {
        "colab": {
          "base_uri": "https://localhost:8080/"
        },
        "id": "KCc9NkJnNXr7",
        "outputId": "61951ac5-88fd-453e-f257-328b19b048fe"
      },
      "execution_count": null,
      "outputs": [
        {
          "output_type": "execute_result",
          "data": {
            "text/plain": [
              "(11, 2)"
            ]
          },
          "metadata": {},
          "execution_count": 34
        }
      ]
    },
    {
      "cell_type": "code",
      "source": [
        "df['tokenized_js']"
      ],
      "metadata": {
        "colab": {
          "base_uri": "https://localhost:8080/"
        },
        "id": "IFgTYarGPAth",
        "outputId": "15e8efa2-9f6b-41ec-b6e7-71a20597b020"
      },
      "execution_count": null,
      "outputs": [
        {
          "output_type": "execute_result",
          "data": {
            "text/plain": [
              "0     import { useState, useEffect } from 'react'\\ni...\n",
              "1                                                      \n",
              "2     import { useEffect, useState } from 'react'\\ni...\n",
              "3     import React, { Component } from \"react\";\\n\\ne...\n",
              "4     import React, { useContext, useState } from 'r...\n",
              "5     import React from 'react'\\nimport { useSelecto...\n",
              "6     import { useCallback, useEffect, useRef, useSt...\n",
              "7     import { useEffect, useState } from \"react\";\\n...\n",
              "8     import React from 'react'\\nimport ReactDOM fro...\n",
              "9     import './App.css'\\nimport { InputBox } from '...\n",
              "10    import React from 'react'\\nimport ReactDOM fro...\n",
              "Name: tokenized_js, dtype: object"
            ]
          },
          "metadata": {},
          "execution_count": 35
        }
      ]
    },
    {
      "cell_type": "code",
      "source": [
        "from sklearn.model_selection import train_test_split\n",
        "train_df, val_df = train_test_split(df, test_size=0.2, random_state=42)"
      ],
      "metadata": {
        "id": "3LZifOP0_ZSU"
      },
      "execution_count": null,
      "outputs": []
    },
    {
      "cell_type": "code",
      "source": [
        "from sklearn.preprocessing import OneHotEncoder\n",
        "\n",
        "train_tokens = train_df['js_tokens'] + train_df['jest_tokens']\n",
        "val_tokens = val_df['js_tokens'] + val_df['jest_tokens']\n",
        "\n",
        "train_tokens_flat = [token for sublist in train_tokens for token in sublist]\n",
        "val_tokens_flat = [token for sublist in val_tokens for token in sublist]\n",
        "\n",
        "train_tokens_reshaped = [[token] for token in train_tokens_flat]\n",
        "val_tokens_reshaped = [[token] for token in val_tokens_flat]\n",
        "\n",
        "encoder = OneHotEncoder(sparse=False, handle_unknown='ignore')\n",
        "\n",
        "encoder.fit(train_tokens_reshaped)\n",
        "\n",
        "train_encoded = encoder.transform(train_tokens_reshaped)\n",
        "val_encoded = encoder.transform(val_tokens_reshaped)\n"
      ],
      "metadata": {
        "colab": {
          "base_uri": "https://localhost:8080/",
          "height": 478
        },
        "id": "2xSDRuzpC8pT",
        "outputId": "606a5da2-f796-4810-bb65-ab4dfa22c81a"
      },
      "execution_count": null,
      "outputs": [
        {
          "output_type": "error",
          "ename": "KeyError",
          "evalue": "'tokenized_js'",
          "traceback": [
            "\u001b[0;31m---------------------------------------------------------------------------\u001b[0m",
            "\u001b[0;31mKeyError\u001b[0m                                  Traceback (most recent call last)",
            "\u001b[0;32m/usr/local/lib/python3.10/dist-packages/pandas/core/indexes/base.py\u001b[0m in \u001b[0;36mget_loc\u001b[0;34m(self, key)\u001b[0m\n\u001b[1;32m   3652\u001b[0m         \u001b[0;32mtry\u001b[0m\u001b[0;34m:\u001b[0m\u001b[0;34m\u001b[0m\u001b[0;34m\u001b[0m\u001b[0m\n\u001b[0;32m-> 3653\u001b[0;31m             \u001b[0;32mreturn\u001b[0m \u001b[0mself\u001b[0m\u001b[0;34m.\u001b[0m\u001b[0m_engine\u001b[0m\u001b[0;34m.\u001b[0m\u001b[0mget_loc\u001b[0m\u001b[0;34m(\u001b[0m\u001b[0mcasted_key\u001b[0m\u001b[0;34m)\u001b[0m\u001b[0;34m\u001b[0m\u001b[0;34m\u001b[0m\u001b[0m\n\u001b[0m\u001b[1;32m   3654\u001b[0m         \u001b[0;32mexcept\u001b[0m \u001b[0mKeyError\u001b[0m \u001b[0;32mas\u001b[0m \u001b[0merr\u001b[0m\u001b[0;34m:\u001b[0m\u001b[0;34m\u001b[0m\u001b[0;34m\u001b[0m\u001b[0m\n",
            "\u001b[0;32m/usr/local/lib/python3.10/dist-packages/pandas/_libs/index.pyx\u001b[0m in \u001b[0;36mpandas._libs.index.IndexEngine.get_loc\u001b[0;34m()\u001b[0m\n",
            "\u001b[0;32m/usr/local/lib/python3.10/dist-packages/pandas/_libs/index.pyx\u001b[0m in \u001b[0;36mpandas._libs.index.IndexEngine.get_loc\u001b[0;34m()\u001b[0m\n",
            "\u001b[0;32mpandas/_libs/hashtable_class_helper.pxi\u001b[0m in \u001b[0;36mpandas._libs.hashtable.PyObjectHashTable.get_item\u001b[0;34m()\u001b[0m\n",
            "\u001b[0;32mpandas/_libs/hashtable_class_helper.pxi\u001b[0m in \u001b[0;36mpandas._libs.hashtable.PyObjectHashTable.get_item\u001b[0;34m()\u001b[0m\n",
            "\u001b[0;31mKeyError\u001b[0m: 'tokenized_js'",
            "\nThe above exception was the direct cause of the following exception:\n",
            "\u001b[0;31mKeyError\u001b[0m                                  Traceback (most recent call last)",
            "\u001b[0;32m<ipython-input-30-88da86b5dd2e>\u001b[0m in \u001b[0;36m<cell line: 3>\u001b[0;34m()\u001b[0m\n\u001b[1;32m      1\u001b[0m \u001b[0;32mfrom\u001b[0m \u001b[0msklearn\u001b[0m\u001b[0;34m.\u001b[0m\u001b[0mpreprocessing\u001b[0m \u001b[0;32mimport\u001b[0m \u001b[0mOneHotEncoder\u001b[0m\u001b[0;34m\u001b[0m\u001b[0;34m\u001b[0m\u001b[0m\n\u001b[1;32m      2\u001b[0m \u001b[0;34m\u001b[0m\u001b[0m\n\u001b[0;32m----> 3\u001b[0;31m \u001b[0mtrain_tokens\u001b[0m \u001b[0;34m=\u001b[0m \u001b[0mtrain_df\u001b[0m\u001b[0;34m[\u001b[0m\u001b[0;34m'tokenized_js'\u001b[0m\u001b[0;34m]\u001b[0m \u001b[0;34m+\u001b[0m \u001b[0mtrain_df\u001b[0m\u001b[0;34m[\u001b[0m\u001b[0;34m'tokenized_jest'\u001b[0m\u001b[0;34m]\u001b[0m\u001b[0;34m\u001b[0m\u001b[0;34m\u001b[0m\u001b[0m\n\u001b[0m\u001b[1;32m      4\u001b[0m \u001b[0mval_tokens\u001b[0m \u001b[0;34m=\u001b[0m \u001b[0mval_df\u001b[0m\u001b[0;34m[\u001b[0m\u001b[0;34m'tokenized_js'\u001b[0m\u001b[0;34m]\u001b[0m \u001b[0;34m+\u001b[0m \u001b[0mval_df\u001b[0m\u001b[0;34m[\u001b[0m\u001b[0;34m'tokenized_jest'\u001b[0m\u001b[0;34m]\u001b[0m\u001b[0;34m\u001b[0m\u001b[0;34m\u001b[0m\u001b[0m\n\u001b[1;32m      5\u001b[0m \u001b[0;34m\u001b[0m\u001b[0m\n",
            "\u001b[0;32m/usr/local/lib/python3.10/dist-packages/pandas/core/frame.py\u001b[0m in \u001b[0;36m__getitem__\u001b[0;34m(self, key)\u001b[0m\n\u001b[1;32m   3759\u001b[0m             \u001b[0;32mif\u001b[0m \u001b[0mself\u001b[0m\u001b[0;34m.\u001b[0m\u001b[0mcolumns\u001b[0m\u001b[0;34m.\u001b[0m\u001b[0mnlevels\u001b[0m \u001b[0;34m>\u001b[0m \u001b[0;36m1\u001b[0m\u001b[0;34m:\u001b[0m\u001b[0;34m\u001b[0m\u001b[0;34m\u001b[0m\u001b[0m\n\u001b[1;32m   3760\u001b[0m                 \u001b[0;32mreturn\u001b[0m \u001b[0mself\u001b[0m\u001b[0;34m.\u001b[0m\u001b[0m_getitem_multilevel\u001b[0m\u001b[0;34m(\u001b[0m\u001b[0mkey\u001b[0m\u001b[0;34m)\u001b[0m\u001b[0;34m\u001b[0m\u001b[0;34m\u001b[0m\u001b[0m\n\u001b[0;32m-> 3761\u001b[0;31m             \u001b[0mindexer\u001b[0m \u001b[0;34m=\u001b[0m \u001b[0mself\u001b[0m\u001b[0;34m.\u001b[0m\u001b[0mcolumns\u001b[0m\u001b[0;34m.\u001b[0m\u001b[0mget_loc\u001b[0m\u001b[0;34m(\u001b[0m\u001b[0mkey\u001b[0m\u001b[0;34m)\u001b[0m\u001b[0;34m\u001b[0m\u001b[0;34m\u001b[0m\u001b[0m\n\u001b[0m\u001b[1;32m   3762\u001b[0m             \u001b[0;32mif\u001b[0m \u001b[0mis_integer\u001b[0m\u001b[0;34m(\u001b[0m\u001b[0mindexer\u001b[0m\u001b[0;34m)\u001b[0m\u001b[0;34m:\u001b[0m\u001b[0;34m\u001b[0m\u001b[0;34m\u001b[0m\u001b[0m\n\u001b[1;32m   3763\u001b[0m                 \u001b[0mindexer\u001b[0m \u001b[0;34m=\u001b[0m \u001b[0;34m[\u001b[0m\u001b[0mindexer\u001b[0m\u001b[0;34m]\u001b[0m\u001b[0;34m\u001b[0m\u001b[0;34m\u001b[0m\u001b[0m\n",
            "\u001b[0;32m/usr/local/lib/python3.10/dist-packages/pandas/core/indexes/base.py\u001b[0m in \u001b[0;36mget_loc\u001b[0;34m(self, key)\u001b[0m\n\u001b[1;32m   3653\u001b[0m             \u001b[0;32mreturn\u001b[0m \u001b[0mself\u001b[0m\u001b[0;34m.\u001b[0m\u001b[0m_engine\u001b[0m\u001b[0;34m.\u001b[0m\u001b[0mget_loc\u001b[0m\u001b[0;34m(\u001b[0m\u001b[0mcasted_key\u001b[0m\u001b[0;34m)\u001b[0m\u001b[0;34m\u001b[0m\u001b[0;34m\u001b[0m\u001b[0m\n\u001b[1;32m   3654\u001b[0m         \u001b[0;32mexcept\u001b[0m \u001b[0mKeyError\u001b[0m \u001b[0;32mas\u001b[0m \u001b[0merr\u001b[0m\u001b[0;34m:\u001b[0m\u001b[0;34m\u001b[0m\u001b[0;34m\u001b[0m\u001b[0m\n\u001b[0;32m-> 3655\u001b[0;31m             \u001b[0;32mraise\u001b[0m \u001b[0mKeyError\u001b[0m\u001b[0;34m(\u001b[0m\u001b[0mkey\u001b[0m\u001b[0;34m)\u001b[0m \u001b[0;32mfrom\u001b[0m \u001b[0merr\u001b[0m\u001b[0;34m\u001b[0m\u001b[0;34m\u001b[0m\u001b[0m\n\u001b[0m\u001b[1;32m   3656\u001b[0m         \u001b[0;32mexcept\u001b[0m \u001b[0mTypeError\u001b[0m\u001b[0;34m:\u001b[0m\u001b[0;34m\u001b[0m\u001b[0;34m\u001b[0m\u001b[0m\n\u001b[1;32m   3657\u001b[0m             \u001b[0;31m# If we have a listlike key, _check_indexing_error will raise\u001b[0m\u001b[0;34m\u001b[0m\u001b[0;34m\u001b[0m\u001b[0m\n",
            "\u001b[0;31mKeyError\u001b[0m: 'tokenized_js'"
          ]
        }
      ]
    },
    {
      "cell_type": "code",
      "source": [
        "import numpy as np\n",
        "from sklearn.preprocessing import OneHotEncoder"
      ],
      "metadata": {
        "id": "dztrrAMWDAyQ"
      },
      "execution_count": null,
      "outputs": []
    },
    {
      "cell_type": "code",
      "source": [
        "train_df.shape, val_df.shape"
      ],
      "metadata": {
        "id": "d9-GhVWnDya7"
      },
      "execution_count": null,
      "outputs": []
    },
    {
      "cell_type": "code",
      "source": [
        "max_jest_length = 600\n",
        "start_token_index = 0\n",
        "end_token_index = 1"
      ],
      "metadata": {
        "id": "ssx0wQbLKVFn"
      },
      "execution_count": null,
      "outputs": []
    },
    {
      "cell_type": "code",
      "source": [
        "import tensorflow as tf\n",
        "from tensorflow.keras.layers import Input, LSTM, Dense, Embedding\n",
        "from tensorflow.keras.models import Model\n",
        "\n",
        "input_seq_length = 573\n",
        "output_seq_length = 573\n",
        "input_vocab_size = 10000\n",
        "output_vocab_size = 5000\n",
        "latent_dim = 256\n",
        "batch_size = 64\n",
        "epochs = 50\n",
        "\n",
        "encoder_inputs = Input(shape=(input_seq_length,))\n",
        "encoder_embedding = Embedding(input_vocab_size, latent_dim, mask_zero=True)(encoder_inputs)\n",
        "encoder_lstm = LSTM(latent_dim, return_state=True)\n",
        "encoder_outputs, state_h, state_c = encoder_lstm(encoder_embedding)\n",
        "encoder_states = [state_h, state_c]\n",
        "\n",
        "decoder_inputs = Input(shape=(output_seq_length,))\n",
        "decoder_embedding = Embedding(output_vocab_size, latent_dim, mask_zero=True)(decoder_inputs)\n",
        "decoder_lstm = LSTM(latent_dim, return_sequences=True, return_state=True)\n",
        "decoder_outputs, _, _ = decoder_lstm(decoder_embedding, initial_state=encoder_states)\n",
        "\n",
        "decoder_dense = Dense(output_vocab_size, activation='softmax')\n",
        "decoder_outputs = decoder_dense(decoder_outputs)\n",
        "\n",
        "model = Model([encoder_inputs, decoder_inputs], decoder_outputs)\n",
        "model.compile(optimizer='rmsprop', loss='categorical_crossentropy')\n",
        "model.summary()\n"
      ],
      "metadata": {
        "id": "jFav9pGlCmIU"
      },
      "execution_count": null,
      "outputs": []
    },
    {
      "cell_type": "code",
      "source": [
        "history = model.fit(\n",
        "    [train_encoded[:, :-1], train_encoded[:, 1:]],\n",
        "    tf.one_hot(train_encoded[:, 1:], output_vocab_size),\n",
        "    epochs=epochs,\n",
        "    batch_size=batch_size,\n",
        "    validation_data=(\n",
        "        [val_encoded[:, :-1], val_encoded[:, 1:]],\n",
        "        tf.one_hot(val_encoded[:, 1:], output_vocab_size)\n",
        "    )\n",
        ")\n",
        "\n",
        "\n",
        "val_loss = model.evaluate(\n",
        "    [val_encoded[:, :-1], val_encoded[:, 1:]],\n",
        "    tf.one_hot(val_encoded[:, 1:], output_vocab_size)\n",
        ")\n",
        "\n",
        "print(\"Validation Loss:\", val_loss)\n"
      ],
      "metadata": {
        "id": "fZlkboUxKlux"
      },
      "execution_count": null,
      "outputs": []
    },
    {
      "cell_type": "code",
      "source": [
        "import numpy as np\n",
        "\n",
        "def generate_jest_file(input_sequence, model, max_jest_length, start_token_index, end_token_index, tokenizer):\n",
        "\n",
        "    preprocessed_code = preprocess_javascript_code(input_sequence)\n",
        "\n",
        "    tokenized_input_sequence = tokenizer.texts_to_sequences([preprocessed_code])[0]\n",
        "\n",
        "    padded_input_sequence = pad_sequences([tokenized_input_sequence], maxlen=max_sequence_length, padding='post')\n",
        "\n",
        "    encoder_states = model.predict(padded_input_sequence)\n",
        "    target_seq = np.zeros((1, 1))\n",
        "    target_seq[0, 0] = start_token_index\n",
        "    jest_code = []\n",
        "    for _ in range(max_jest_length):\n",
        "        output_tokens, h, c = model.predict([target_seq] + encoder_states)\n",
        "        sampled_token_index = np.argmax(output_tokens[0, -1, :])\n",
        "        jest_code.append(sampled_token_index)\n",
        "\n",
        "        if sampled_token_index == end_token_index:\n",
        "            break\n",
        "        target_seq = np.zeros((1, 1))\n",
        "        target_seq[0, 0] = sampled_token_index\n",
        "        encoder_states = [h, c]\n",
        "\n",
        "    return jest_code\n",
        "\n",
        "input_sequence = \"function greet(name) { console.log('Hello, ' + name + '!'); } greet('World');\"\n",
        "generated_jest_code = generate_jest_file(input_sequence, model, max_jest_length, start_token_index, end_token_index, tokenizer)\n"
      ],
      "metadata": {
        "id": "booVX1tdGC1Z"
      },
      "execution_count": null,
      "outputs": []
    },
    {
      "cell_type": "code",
      "source": [],
      "metadata": {
        "id": "xiDE8lhiGXMo"
      },
      "execution_count": null,
      "outputs": []
    }
  ]
}